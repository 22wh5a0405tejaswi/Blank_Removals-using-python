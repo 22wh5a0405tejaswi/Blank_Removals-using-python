{
 "cells": [
  {
   "cell_type": "code",
   "execution_count": 8,
   "id": "7259a255",
   "metadata": {},
   "outputs": [
    {
     "name": "stdout",
     "output_type": "stream",
     "text": [
      "243\n",
      "245\n"
     ]
    }
   ],
   "source": [
    "from tkinter import *\n",
    "from tkinter import filedialog\n",
    "from tkinter import messagebox\n",
    "\n",
    "def print_invert_triangle(filename):\n",
    "    f = open(filename, 'r')\n",
    "    text = f.read().strip()\n",
    "    f.close()\n",
    "\n",
    "    x = len(text)\n",
    "    print(x)\n",
    "\n",
    "    words = text.split()\n",
    "    n = 8\n",
    "    i = 80\n",
    "    j = 0\n",
    "\n",
    "    output = \"\"\n",
    "    while n >= 0:\n",
    "        if \" \" in text[j:j + i]:\n",
    "            ind = text[j:j + i][::-1].index(\" \")\n",
    "            i -= ind\n",
    "        row = text[j:j + i]\n",
    "        output += row + \"\\n\"\n",
    "        n -= 1\n",
    "        j += i\n",
    "        i -= 10\n",
    "\n",
    "    return output\n",
    "\n",
    "def button_click():\n",
    "    filename = filedialog.askopenfilename()\n",
    "    if filename:\n",
    "        inverted_text = print_invert_triangle(filename)\n",
    "        new_window = Toplevel()\n",
    "        new_window.title(\"Inverted Triangle Output\")\n",
    "        text_widget = Text(new_window)\n",
    "        text_widget.pack()\n",
    "        text_widget.insert(END, inverted_text)\n",
    "\n",
    "mywindow = Tk()\n",
    "mywindow.title(\"New Project\")\n",
    "mywindow.geometry(\"780x640\")\n",
    "mywindow.minsize(540, 420)\n",
    "#mywindow.configure(bg=\"blue\")\n",
    "\n",
    "try:\n",
    "    c = Canvas(mywindow, bg=\"gray16\", height=1000, width=1000)\n",
    "    filename = PhotoImage(file=r\"D:\\CERTIFICATES\\my projects\\python project\\blank removals-py\\ttt.jpg\")\n",
    "    background_label = Label(mywindow, image=filename)\n",
    "    background_label.place(x=1, y=2, relwidth=1, relheight=1)\n",
    "    c.pack()\n",
    "except TclError as e:\n",
    "    messagebox.showerror(\"Error\", str(e))\n",
    "\n",
    "button = Button(mywindow, text=\"Open File\", command=button_click)\n",
    "button.place(relx=0.5,rely=0.5,anchor=CENTER)\n",
    "\n",
    "mywindow.mainloop()"
   ]
  }
 ],
 "metadata": {
  "kernelspec": {
   "display_name": "Python 3 (ipykernel)",
   "language": "python",
   "name": "python3"
  },
  "language_info": {
   "codemirror_mode": {
    "name": "ipython",
    "version": 3
   },
   "file_extension": ".py",
   "mimetype": "text/x-python",
   "name": "python",
   "nbconvert_exporter": "python",
   "pygments_lexer": "ipython3",
   "version": "3.12.0"
  }
 },
 "nbformat": 4,
 "nbformat_minor": 5
}
